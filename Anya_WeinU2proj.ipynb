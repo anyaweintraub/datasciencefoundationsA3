{
  "nbformat": 4,
  "nbformat_minor": 0,
  "metadata": {
    "colab": {
      "provenance": []
    },
    "kernelspec": {
      "name": "python3",
      "display_name": "Python 3"
    },
    "language_info": {
      "name": "python"
    }
  },
  "cells": [
    {
      "cell_type": "code",
      "execution_count": null,
      "metadata": {
        "id": "V5Hd2gWR1Xwj"
      },
      "outputs": [],
      "source": [
        "!pip install preliz"
      ]
    },
    {
      "cell_type": "code",
      "source": [
        "import preliz as pz"
      ],
      "metadata": {
        "id": "TcYlWEfK28TQ"
      },
      "execution_count": 2,
      "outputs": []
    },
    {
      "cell_type": "code",
      "source": [
        "import numpy as np\n",
        "import arviz as az\n",
        "import pymc as pm"
      ],
      "metadata": {
        "id": "vLPyopmu3CX2"
      },
      "execution_count": 3,
      "outputs": []
    },
    {
      "cell_type": "markdown",
      "source": [
        "# Context"
      ],
      "metadata": {
        "id": "8S436otva70E"
      }
    },
    {
      "cell_type": "markdown",
      "source": [
        "My project is creating a pymc betabinomial model predicting if Connor McDavid will score at least one goal per game in the regular 24-25 season. I have gotten my data from this [website.](https://www.nhl.com/oilers/player/connor-mcdavid-8478402) My goal is to see if the prior and likelihood I give the model create an accurate summarization of the data for the 24-25 season."
      ],
      "metadata": {
        "id": "Ft2OFIZP3boj"
      }
    },
    {
      "cell_type": "markdown",
      "source": [
        "There are 82 games in a regular season, but Connor McDavid only played in 67 of those (due to injury). How many of those games will he score in? (This question is mainly useful for sports betters.)\n",
        "\n"
      ],
      "metadata": {
        "id": "yFWOroPq7C1a"
      }
    },
    {
      "cell_type": "markdown",
      "source": [
        "# Prior"
      ],
      "metadata": {
        "id": "6I5W5a9qbDf8"
      }
    },
    {
      "cell_type": "markdown",
      "source": [
        "To establish my prior, I thought back to when I had no knowledge of McDavid's actual data, but rather just knew about his skill from hearing about him. My belief is that a good hockey player will score in approximately 35% of the games he plays, due to the constant nature of rotating players on the rink, possible injury, and inaccuracy when trying to get a shot on goal. I am not super confident in this prior as it is just my belief and not based upon actual knowledge I have."
      ],
      "metadata": {
        "id": "U31vTpjs38Lm"
      }
    },
    {
      "cell_type": "code",
      "source": [
        "McDavid_prior = pz.Beta(alpha=35,beta=65)\n",
        "McDavid_prior.mean(), McDavid_prior.median(), McDavid_prior.mode()"
      ],
      "metadata": {
        "colab": {
          "base_uri": "https://localhost:8080/"
        },
        "id": "4Ndln53-jhBp",
        "outputId": "4451528c-c879-445c-ba0f-bb6626e59cea"
      },
      "execution_count": 4,
      "outputs": [
        {
          "output_type": "execute_result",
          "data": {
            "text/plain": [
              "(np.float64(0.35), 0.3489962553776181, np.float64(0.3469387755102041))"
            ]
          },
          "metadata": {},
          "execution_count": 4
        }
      ]
    },
    {
      "cell_type": "markdown",
      "source": [
        "Therefore, our prior is established from $ p(θ)= Beta(α=35, β=65)$. The distribution below shows what this would look like."
      ],
      "metadata": {
        "id": "KLIi-qxxk6UZ"
      }
    },
    {
      "cell_type": "code",
      "source": [
        "pz.Beta(alpha=35,beta=65).plot_pdf()"
      ],
      "metadata": {
        "colab": {
          "base_uri": "https://localhost:8080/",
          "height": 447
        },
        "id": "Zsv3vB_FyaEB",
        "outputId": "8e8f27e3-5bca-4a88-8299-2ca1ca2e66dd"
      },
      "execution_count": 8,
      "outputs": [
        {
          "output_type": "execute_result",
          "data": {
            "text/plain": [
              "<Axes: >"
            ]
          },
          "metadata": {},
          "execution_count": 8
        },
        {
          "output_type": "display_data",
          "data": {
            "text/plain": [
              "<Figure size 640x480 with 1 Axes>"
            ],
            "image/png": "[encoded data removed]"
          },
          "metadata": {}
        }
      ]
    },
    {
      "cell_type": "markdown",
      "source": [
        "# Likelihood"
      ],
      "metadata": {
        "id": "W2F2jheYmM5m"
      }
    },
    {
      "cell_type": "markdown",
      "source": [
        "To establish my likelihood, I looked at his goal points per game average for his past seasons with the Oilers (2015-2024). He has had some good seasons and some bad seasons, so getting an overall picture will be useful to establish a prior.\n",
        "\n",
        "Out of 645 career games played prior to the 2024-2025 season he scored at least one goal in 267 of those games."
      ],
      "metadata": {
        "id": "LA33PTLBme9l"
      }
    },
    {
      "cell_type": "markdown",
      "source": [
        "$p(y|θ) = Binomial(n=645,k=267,θ)$\n",
        "\n",
        "\n"
      ],
      "metadata": {
        "id": "u-ALSSsOnFoV"
      }
    },
    {
      "cell_type": "markdown",
      "source": [
        "# PyMC Model"
      ],
      "metadata": {
        "id": "h5a454qOqmUp"
      }
    },
    {
      "cell_type": "code",
      "source": [
        "McDavid_Goal = np.repeat(1,267)\n",
        "McDavid_NoGoal= np.repeat(0,378)\n",
        "McDavid_Data =np.concatenate([McDavid_Goal,McDavid_NoGoal])"
      ],
      "metadata": {
        "id": "fuXYKnaeqqY5"
      },
      "execution_count": 5,
      "outputs": []
    },
    {
      "cell_type": "code",
      "source": [
        "with pm.Model() as McDavid_model:\n",
        "  θ = pm.Beta('θ', alpha = 35., beta = 65.)\n",
        "  y = pm.Bernoulli('y', p = θ, observed = McDavid_Data)\n",
        "  idata_McDavid = pm.sample()"
      ],
      "metadata": {
        "id": "_66kuR-_rwoD"
      },
      "execution_count": null,
      "outputs": []
    },
    {
      "cell_type": "code",
      "source": [
        "az.plot_posterior(idata_McDavid)"
      ],
      "metadata": {
        "colab": {
          "base_uri": "https://localhost:8080/",
          "height": 475
        },
        "id": "1mWamlj1szo0",
        "outputId": "6e17de82-7062-41f1-8d82-9fd23b0500bb"
      },
      "execution_count": 7,
      "outputs": [
        {
          "output_type": "execute_result",
          "data": {
            "text/plain": [
              "<Axes: title={'center': 'θ'}>"
            ]
          },
          "metadata": {},
          "execution_count": 7
        },
        {
          "output_type": "display_data",
          "data": {
            "text/plain": [
              "<Figure size 640x480 with 1 Axes>"
            ],
            "image/png": "[encoded data removed]"
          },
          "metadata": {}
        }
      ]
    },
    {
      "cell_type": "markdown",
      "source": [
        "# Reflection"
      ],
      "metadata": {
        "id": "S4OT_-CQyiMo"
      }
    },
    {
      "cell_type": "markdown",
      "source": [
        "As shown by the Posterior the mean is 0.41, considerably higher than the belief of the Prior mean being 0.35. This shows that Connor McDavid is considerably better than what I believed originally (how often a hockey player will score at least once in every game). The HDI highlights this, saying that there is a 94% chance that the true mean is between 0.37 and 0.44, which 0.35 is not even a part of. This further demonstrates how great of a hockey player Connor McDavid is."
      ],
      "metadata": {
        "id": "9lXmrAw7ylLA"
      }
    },
    {
      "cell_type": "markdown",
      "source": [
        "# Prediction for 24-25 Season"
      ],
      "metadata": {
        "id": "VpJvd8mH0E3C"
      }
    },
    {
      "cell_type": "code",
      "source": [
        "pm.sample_posterior_predictive(idata_McDavid, model=McDavid_model, extend_inferencedata=True)"
      ],
      "metadata": {
        "id": "98sFq1iD0g3S"
      },
      "execution_count": null,
      "outputs": []
    },
    {
      "cell_type": "markdown",
      "source": [
        "I know that Connor McDavid only played in 67 games in the 24-25 season. Therefore I use the model to extract the number of games he shall score in."
      ],
      "metadata": {
        "id": "EIg_f3KH5J7F"
      }
    },
    {
      "cell_type": "code",
      "source": [
        "stacked_McDavid = az.extract(idata_McDavid, group=\"posterior_predictive\")"
      ],
      "metadata": {
        "id": "Q1V4c_fG1hDv"
      },
      "execution_count": 14,
      "outputs": []
    },
    {
      "cell_type": "code",
      "source": [
        "stacked_McDavid.sel(sample=0).sel(draw=0).y.to_series().values[0:67]"
      ],
      "metadata": {
        "colab": {
          "base_uri": "https://localhost:8080/"
        },
        "id": "wzETyGML1kAP",
        "outputId": "9247ca72-0ac9-4784-bb88-0012671b4f19"
      },
      "execution_count": 16,
      "outputs": [
        {
          "output_type": "execute_result",
          "data": {
            "text/plain": [
              "array([0, 1, 0, 0, 1, 1, 1, 0, 0, 0, 1, 0, 1, 0, 1, 1, 1, 1, 0, 1, 0, 1,\n",
              "       1, 1, 1, 1, 0, 0, 1, 0, 0, 1, 0, 1, 1, 1, 1, 0, 0, 1, 0, 0, 1, 1,\n",
              "       1, 0, 0, 0, 1, 0, 0, 1, 0, 1, 1, 0, 0, 0, 0, 0, 0, 0, 1, 0, 1, 0,\n",
              "       0])"
            ]
          },
          "metadata": {},
          "execution_count": 16
        }
      ]
    },
    {
      "cell_type": "markdown",
      "source": [
        "The array reflects that Connor McDavid will score in 32 out of the 67 games we know he played. However, in reality, McDavid only scored in 22 games. I believe this is because outside factors affected his season, such as a severe ankle injury early in the season and old age."
      ],
      "metadata": {
        "id": "wo_8QRap1xio"
      }
    }
  ]
}
